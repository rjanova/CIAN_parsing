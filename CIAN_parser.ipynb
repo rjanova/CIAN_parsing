{
 "cells": [
  {
   "cell_type": "code",
   "execution_count": 34,
   "metadata": {
    "collapsed": true
   },
   "outputs": [],
   "source": [
    "import requests\n",
    "import re\n",
    "from bs4 import BeautifulSoup\n",
    "import pandas as pd\n",
    "import time\n",
    "import math"
   ]
  },
  {
   "cell_type": "code",
   "execution_count": 3,
   "metadata": {
    "collapsed": true
   },
   "outputs": [],
   "source": [
    "def html_stripper(text):\n",
    "    return re.sub('<[^<]+?>', '', str(text))"
   ]
  },
  {
   "cell_type": "markdown",
   "metadata": {},
   "source": [
    "# Функции для определения характеристик квартиры. Цена:"
   ]
  },
  {
   "cell_type": "code",
   "execution_count": 6,
   "metadata": {
    "collapsed": false
   },
   "outputs": [],
   "source": [
    "def getPrice(flat_page):\n",
    "    price = flat_page.find('div', attrs={'class':'object_descr_price'})\n",
    "    price = re.split('<div>|руб|\\W', str(price))\n",
    "    price = \"\".join([i for i in price if i.isdigit()][-3:])\n",
    "    return int(price)"
   ]
  },
  {
   "cell_type": "markdown",
   "metadata": {},
   "source": [
    "# Координаты"
   ]
  },
  {
   "cell_type": "code",
   "execution_count": 56,
   "metadata": {
    "collapsed": false,
    "scrolled": true
   },
   "outputs": [],
   "source": [
    "def getDist(flat_page):\n",
    "    coords = flat_page.find('div', attrs={'class':'map_info_button_extend'}).contents[1]\n",
    "    coords = re.split('&amp|center=|%2C', str(coords))\n",
    "    coords_list = []\n",
    "    for item in coords:\n",
    "        if item[0].isdigit():\n",
    "            coords_list.append(item)\n",
    "    lat = float(coords_list[0])\n",
    "    lon = float(coords_list[1])\n",
    "    # Расстояние по Пифагору (цетр Москвы: 55.753639, 37.619833):\n",
    "    Dist = math.sqrt((lat - 55.753639)**2 + (lon- 37.619833)**2)\n",
    "    return Dist"
   ]
  },
  {
   "cell_type": "markdown",
   "metadata": {},
   "source": [
    "# Число комнат"
   ]
  },
  {
   "cell_type": "code",
   "execution_count": 8,
   "metadata": {
    "collapsed": false
   },
   "outputs": [],
   "source": [
    "def getRoom(flat_page):\n",
    "    rooms = flat_page.find('div', attrs={'class':'object_descr_title'})\n",
    "    rooms = html_stripper(rooms)\n",
    "    room_number = ''\n",
    "    for i in re.split('-|\\n', rooms):\n",
    "        if 'комн' in i:\n",
    "            break\n",
    "        else:\n",
    "            room_number += i\n",
    "    room_number = \"\".join(room_number.split())\n",
    "    return room_number"
   ]
  },
  {
   "cell_type": "markdown",
   "metadata": {},
   "source": [
    "# Параметры площади"
   ]
  },
  {
   "cell_type": "code",
   "execution_count": 9,
   "metadata": {
    "collapsed": false
   },
   "outputs": [],
   "source": [
    "def get_square(flat_page):\n",
    "    p = flat_page.find('div', attrs={'class':'clearfix'})\n",
    "    p_tot = re.split('Общая площадь|комнат', str(p))[1]\n",
    "    p_tot = re.split('</i>|\\xa0м<sup>', str(p_tot))[1]\n",
    "    Totsp = p_tot.replace(',', '.')\n",
    "    p_live = re.split('Жилая|кухни', str(p))[1]\n",
    "    p_live = re.split('</i>|\\xa0м<sup>', str(p_live))[1]\n",
    "    Livesp = p_live.replace(',', '.')\n",
    "    p_kit = re.split('кухни|сан', str(p))[1]\n",
    "    p_kit = re.split('</i>|\\xa0м<sup>', str(p_kit))[1]\n",
    "    Kitsp = p_kit.replace(',', '.')\n",
    "    return Totsp, Livesp, Kitsp"
   ]
  },
  {
   "cell_type": "markdown",
   "metadata": {},
   "source": [
    "# Сколько и как добираться до метро"
   ]
  },
  {
   "cell_type": "code",
   "execution_count": 10,
   "metadata": {
    "collapsed": false
   },
   "outputs": [],
   "source": [
    "def GetMetro(flat_page):\n",
    "    p = flat_page.find('div', attrs={'class':'object_descr_metro'})\n",
    "    p = re.split('comment', str(p))\n",
    "    try:\n",
    "        p = p[1]\n",
    "        Metrdist = [i for i in p.split() if i.isdigit()]\n",
    "        if re.search('пеш', p) is not None:\n",
    "            Walk = 1\n",
    "        else:\n",
    "            Walk = 0\n",
    "    except: \n",
    "        Metrdist = 'N'\n",
    "        Walk = 0\n",
    "    return Metrdist, Walk\n"
   ]
  },
  {
   "cell_type": "markdown",
   "metadata": {},
   "source": [
    "# Номер этажа, количество этажей, балконы"
   ]
  },
  {
   "cell_type": "code",
   "execution_count": 11,
   "metadata": {
    "collapsed": false
   },
   "outputs": [],
   "source": [
    "def GetBalc(flat_page):\n",
    "    p = flat_page.find('div', attrs={'class':'clearfix'})\n",
    "    p = re.split('Балкон|Лифт', str(p))[1]\n",
    "    if re.search('балк|лодж', str(p)) is not None:\n",
    "            Bal = 1\n",
    "    else:\n",
    "            Bal = 0\n",
    "    return Bal"
   ]
  },
  {
   "cell_type": "code",
   "execution_count": 12,
   "metadata": {
    "collapsed": false
   },
   "outputs": [],
   "source": [
    "def GetFloors(flat_page):\n",
    "    floor = flat_page.find('div', attrs={'class':'clearfix'})\n",
    "    floor = re.split('Этаж|Тип', str(floor))\n",
    "    floor = floor[1].split()\n",
    "    floor = [i for i in floor if i.isdigit()]\n",
    "    try :\n",
    "        Floor = int(floor[0])\n",
    "    except:\n",
    "        Floor = 'N'\n",
    "    try:\n",
    "        Nfloors = int(floor[1])\n",
    "    except:\n",
    "        Nfloors = 'N'\n",
    "    return Floor, Nfloors"
   ]
  },
  {
   "cell_type": "markdown",
   "metadata": {},
   "source": [
    "# Тип дома (кирпичный, вторичка)"
   ]
  },
  {
   "cell_type": "code",
   "execution_count": 13,
   "metadata": {
    "collapsed": false
   },
   "outputs": [],
   "source": [
    "def GetType(flat_page):\n",
    "    p = flat_page.find('div', attrs={'class':'clearfix'})\n",
    "    p = re.split('дома|Высота', str(p))\n",
    "    try:\n",
    "        p = p[1]\n",
    "        if re.search('втор', str(p)) is None:\n",
    "            New = 1\n",
    "        else:\n",
    "            New = 0\n",
    "        if re.search('кирп|монолит|жб', str(p)) is not None:\n",
    "            Brick = 1\n",
    "        else:\n",
    "            Brick = 0\n",
    "    except:\n",
    "        Brick = 'N'\n",
    "        New = 'N'\n",
    "    return Brick, New"
   ]
  },
  {
   "cell_type": "markdown",
   "metadata": {},
   "source": [
    "# Объединяем информацию:"
   ]
  },
  {
   "cell_type": "code",
   "execution_count": 51,
   "metadata": {
    "collapsed": true
   },
   "outputs": [],
   "source": [
    "flatStats = {'District':0}\n",
    "def get_stats(flat_page):\n",
    "    flatStats['Totsq'] = get_square(flat_page)[0]\n",
    "    flatStats['Livesq'] = get_square(flat_page)[1]\n",
    "    flatStats['Kitsq'] = get_square(flat_page)[2]\n",
    "    flatStats['Price'] = getPrice(flat_page)\n",
    "    flatStats['Rooms'] = getRoom(flat_page)\n",
    "    flatStats['Bal'] = GetBalc(flat_page)\n",
    "    flatStats['Floor'] = GetFloors(flat_page)[0]\n",
    "    flatStats['NFloors'] = GetFloors(flat_page)[1]\n",
    "    flatStats['Metrodist'] = GetMetro(flat_page)[0]\n",
    "    flatStats['Walk'] = GetMetro(flat_page)[1]\n",
    "    flatStats['Brick'] = GetType(flat_page)[0]\n",
    "    flatStats['New'] = GetType(flat_page)[1]\n",
    "    flatStats['Dist'] = getDist(flat_page)\n",
    "    return flatStats\n",
    "    "
   ]
  },
  {
   "cell_type": "markdown",
   "metadata": {},
   "source": [
    "# Результаты. ЦАО:"
   ]
  },
  {
   "cell_type": "code",
   "execution_count": 15,
   "metadata": {
    "collapsed": true
   },
   "outputs": [],
   "source": [
    "district = 'http://www.cian.ru/cat.php?deal_type=sale&district%5B0%5D=13&district%5B1%5D=14&district%5B2%5D=15&district%5B3%5D=16&district%5B4%5D=17&district%5B5%5D=18&district%5B6%5D=19&district%5B7%5D=20&district%5B8%5D=21&district%5B9%5D=22&engine_version=2&offer_type=flat&p={}&room1=1&room2=1&room3=1&room4=1&room5=1&room6=1'"
   ]
  },
  {
   "cell_type": "code",
   "execution_count": 16,
   "metadata": {
    "collapsed": true
   },
   "outputs": [],
   "source": [
    "links = []\n",
    "for page in range(1, 30):\n",
    "    page_url =  district.format(page)\n",
    "\n",
    "    search_page = requests.get(page_url)\n",
    "    search_page = search_page.content\n",
    "    search_page = BeautifulSoup(search_page, 'lxml')\n",
    "\n",
    "    flat_urls = search_page.findAll('div', attrs = {'ng-class':\"{'serp-item_removed': offer.remove.state, 'serp-item_popup-opened': isPopupOpen}\"})\n",
    "    flat_urls = re.split('http://www.cian.ru/sale/flat/|/\" ng-class=\"', str(flat_urls))\n",
    "\n",
    "    for link in flat_urls:\n",
    "        if link.isdigit():\n",
    "            links.append(link)"
   ]
  },
  {
   "cell_type": "code",
   "execution_count": 19,
   "metadata": {
    "collapsed": false
   },
   "outputs": [],
   "source": [
    "CIAN_flats_CAO = pd.DataFrame()\n",
    "for i in links:\n",
    "        flat_url = 'http://www.cian.ru/sale/flat/' + str(i) + '/'\n",
    "        #flat_url = 'http://www.cian.ru/sale/flat/150531912/' \n",
    "        flat_page = requests.get(flat_url)\n",
    "        flat_page = flat_page.content\n",
    "        flat_page = BeautifulSoup(flat_page, 'lxml')\n",
    "        results = get_stats(flat_page)\n",
    "        results['District'] = 0\n",
    "        CIAN_flats_CAO = CIAN_flats_CAO.append(results, ignore_index=True)"
   ]
  },
  {
   "cell_type": "markdown",
   "metadata": {},
   "source": [
    "# Остальные округа Mосквы"
   ]
  },
  {
   "cell_type": "markdown",
   "metadata": {},
   "source": [
    "Я разбивала на куски, чтобы не ввергнуть свой комп в шок)\n",
    "Загружаем вручную адреса округов:"
   ]
  },
  {
   "cell_type": "code",
   "execution_count": 42,
   "metadata": {
    "collapsed": true
   },
   "outputs": [],
   "source": [
    "district = ['http://www.cian.ru/cat.php?deal_type=sale&district%5B0%5D=13&district%5B1%5D=14&district%5B2%5D=15&district%5B3%5D=16&district%5B4%5D=17&district%5B5%5D=18&district%5B6%5D=19&district%5B7%5D=20&district%5B8%5D=21&district%5B9%5D=22&engine_version=2&offer_type=flat&p={}&room1=1&room2=1&room3=1&room4=1&room5=1&room6=1','http://www.cian.ru/cat.php?deal_type=sale&district%5B0%5D=23&district%5B10%5D=33&district%5B11%5D=34&district%5B12%5D=35&district%5B13%5D=36&district%5B14%5D=37&district%5B15%5D=38&district%5B1%5D=24&district%5B2%5D=25&district%5B3%5D=26&district%5B4%5D=27&district%5B5%5D=28&district%5B6%5D=29&district%5B7%5D=30&district%5B8%5D=31&district%5B9%5D=32&engine_version=2&offer_type=flat&room1=1&room2=1&room3=1&room4=1&room5=1&room6=1', 'http://www.cian.ru/cat.php?deal_type=sale&district%5B0%5D=39&district%5B1%5D=40&district%5B10%5D=49&district%5B11%5D=50&district%5B12%5D=51&district%5B13%5D=52&district%5B14%5D=53&district%5B15%5D=54&district%5B16%5D=55&district%5B2%5D=41&district%5B3%5D=42&district%5B4%5D=43&district%5B5%5D=44&district%5B6%5D=45&district%5B7%5D=46&district%5B8%5D=47&district%5B9%5D=48&engine_version=2&offer_type=flat&p=30&room1=1&room2=1&room3=1&room4=1&room5=1&room6=1', 'http://www.cian.ru/cat.php?deal_type=sale&district%5B0%5D=56&district%5B10%5D=66&district%5B11%5D=67&district%5B12%5D=68&district%5B13%5D=69&district%5B14%5D=70&district%5B15%5D=71&district%5B1%5D=57&district%5B2%5D=58&district%5B3%5D=59&district%5B4%5D=60&district%5B5%5D=61&district%5B6%5D=62&district%5B7%5D=63&district%5B8%5D=64&district%5B9%5D=65&engine_version=2&offer_type=flat&room1=1&room2=1&room3=1&room4=1&room5=1&room6=1', 'http://www.cian.ru/cat.php?deal_type=sale&district%5B0%5D=72&district%5B10%5D=82&district%5B11%5D=83&district%5B1%5D=73&district%5B2%5D=74&district%5B3%5D=75&district%5B4%5D=76&district%5B5%5D=77&district%5B6%5D=78&district%5B7%5D=79&district%5B8%5D=80&district%5B9%5D=81&engine_version=2&offer_type=flat&room1=1&room2=1&room3=1&room4=1&room5=1&room6=1', 'http://www.cian.ru/cat.php?deal_type=sale&district%5B0%5D=84&district%5B10%5D=94&district%5B11%5D=95&district%5B12%5D=96&district%5B13%5D=97&district%5B14%5D=98&district%5B15%5D=99&district%5B1%5D=85&district%5B2%5D=86&district%5B3%5D=87&district%5B4%5D=88&district%5B5%5D=89&district%5B6%5D=90&district%5B7%5D=91&district%5B8%5D=92&district%5B9%5D=93&engine_version=2&offer_type=flat&room1=1&room2=1&room3=1&room4=1&room5=1&room6=1', 'http://www.cian.ru/cat.php?deal_type=sale&district%5B0%5D=100&district%5B10%5D=110&district%5B11%5D=111&district%5B1%5D=101&district%5B2%5D=102&district%5B3%5D=103&district%5B4%5D=104&district%5B5%5D=105&district%5B6%5D=106&district%5B7%5D=107&district%5B8%5D=108&district%5B9%5D=109&engine_version=2&offer_type=flat&room1=1&room2=1&room3=1&room4=1&room5=1&room6=1', 'http://www.cian.ru/cat.php?deal_type=sale&district%5B0%5D=112&district%5B10%5D=122&district%5B11%5D=123&district%5B12%5D=124&district%5B13%5D=348&district%5B14%5D=349&district%5B15%5D=350&district%5B1%5D=113&district%5B2%5D=114&district%5B3%5D=115&district%5B4%5D=116&district%5B5%5D=117&district%5B6%5D=118&district%5B7%5D=119&district%5B8%5D=120&district%5B9%5D=121&engine_version=2&offer_type=flat&room1=1&room2=1&room3=1&room4=1&room5=1&room6=1', 'http://www.cian.ru/cat.php?deal_type=sale&district%5B0%5D=125&district%5B1%5D=126&district%5B2%5D=127&district%5B3%5D=128&district%5B4%5D=129&district%5B5%5D=130&district%5B6%5D=131&district%5B7%5D=132&engine_version=2&offer_type=flat&room1=1&room2=1&room3=1&room4=1&room5=1&room6=1', 'http://www.cian.ru/cat.php?deal_type=sale&district%5B0%5D=327&district%5B10%5D=337&district%5B1%5D=328&district%5B2%5D=329&district%5B3%5D=330&district%5B4%5D=331&district%5B5%5D=332&district%5B6%5D=333&district%5B7%5D=334&district%5B8%5D=335&district%5B9%5D=336&engine_version=2&offer_type=flat&room1=1&room2=1&room3=1&room4=1&room5=1&room6=1', 'http://www.cian.ru/cat.php?deal_type=sale&district%5B0%5D=338&district%5B1%5D=339&district%5B2%5D=340&district%5B3%5D=341&district%5B4%5D=342&district%5B5%5D=343&district%5B6%5D=344&district%5B7%5D=345&district%5B8%5D=346&district%5B9%5D=347&engine_version=2&offer_type=flat&room1=1&room2=1&room3=1&room4=1&room5=1&room6=1'] "
   ]
  },
  {
   "cell_type": "markdown",
   "metadata": {},
   "source": [
    "Сначала первые пять:"
   ]
  },
  {
   "cell_type": "code",
   "execution_count": 43,
   "metadata": {
    "collapsed": true
   },
   "outputs": [],
   "source": [
    "CIAN_flats_5 = pd.DataFrame()"
   ]
  },
  {
   "cell_type": "code",
   "execution_count": null,
   "metadata": {
    "collapsed": false
   },
   "outputs": [],
   "source": [
    "links = []\n",
    "for d in range(1,5):\n",
    "    for page in range(1, 30):\n",
    "        page_url =  district[d].format(page)\n",
    "        search_page = requests.get(page_url)\n",
    "        search_page = search_page.content\n",
    "        search_page = BeautifulSoup(search_page, 'lxml')\n",
    "        flat_urls = search_page.findAll('div', attrs = {'ng-class':\"{'serp-item_removed': offer.remove.state, 'serp-item_popup-opened': isPopupOpen}\"})\n",
    "        flat_urls = re.split('http://www.cian.ru/sale/flat/|/\" ng-class=\"', str(flat_urls))\n",
    "        for link in flat_urls:\n",
    "            if link.isdigit():\n",
    "                links.append(link)\n",
    "        for i in links:\n",
    "            flat_url = 'http://www.cian.ru/sale/flat/' + str(i) + '/'\n",
    "            #flat_url = 'http://www.cian.ru/sale/flat/150531912/' \n",
    "            flat_page = requests.get(flat_url)\n",
    "            flat_page = flat_page.content\n",
    "            flat_page = BeautifulSoup(flat_page, 'lxml')\n",
    "            results = get_stats(flat_page)\n",
    "            results['District'] = d\n",
    "        \n",
    "            CIAN_flats_5 = CIAN_flats_5.append(results, ignore_index=True)"
   ]
  },
  {
   "cell_type": "markdown",
   "metadata": {},
   "source": [
    "И последние пять:"
   ]
  },
  {
   "cell_type": "code",
   "execution_count": 58,
   "metadata": {
    "collapsed": true
   },
   "outputs": [],
   "source": [
    "CIAN_flats_10 = pd.DataFrame()"
   ]
  },
  {
   "cell_type": "code",
   "execution_count": null,
   "metadata": {
    "collapsed": true
   },
   "outputs": [],
   "source": [
    "links = []\n",
    "for d in range(6,11):\n",
    "    for page in range(1, 30):\n",
    "        page_url =  district[d].format(page)\n",
    "        search_page = requests.get(page_url)\n",
    "        search_page = search_page.content\n",
    "        search_page = BeautifulSoup(search_page, 'lxml')\n",
    "        flat_urls = search_page.findAll('div', attrs = {'ng-class':\"{'serp-item_removed': offer.remove.state, 'serp-item_popup-opened': isPopupOpen}\"})\n",
    "        flat_urls = re.split('http://www.cian.ru/sale/flat/|/\" ng-class=\"', str(flat_urls))\n",
    "        for link in flat_urls:\n",
    "            if link.isdigit():\n",
    "                links.append(link)\n",
    "        for i in links:\n",
    "            flat_url = 'http://www.cian.ru/sale/flat/' + str(i) + '/'\n",
    "            #flat_url = 'http://www.cian.ru/sale/flat/150531912/' \n",
    "            flat_page = requests.get(flat_url)\n",
    "            flat_page = flat_page.content\n",
    "            flat_page = BeautifulSoup(flat_page, 'lxml')\n",
    "            results = get_stats(flat_page)\n",
    "            results['District'] = d\n",
    "        \n",
    "            CIAN_flats_10 = CIAN_flats_10.append(results, ignore_index=True)"
   ]
  },
  {
   "cell_type": "markdown",
   "metadata": {},
   "source": [
    "Соединяем кусочки:"
   ]
  },
  {
   "cell_type": "code",
   "execution_count": 46,
   "metadata": {
    "collapsed": false
   },
   "outputs": [],
   "source": [
    "CIAN = pd.concat([CIAN_flats_CAO, CIAN_flats_5], ignore_index=True)"
   ]
  },
  {
   "cell_type": "markdown",
   "metadata": {},
   "source": [
    "Редактируем конечную таблицу"
   ]
  },
  {
   "cell_type": "code",
   "execution_count": 47,
   "metadata": {
    "collapsed": false
   },
   "outputs": [],
   "source": [
    "for i, row in CIAN.iterrows():\n",
    "    try:\n",
    "        float(row[4])\n",
    "        CIAN.set_value(i,'Kitsq',float(row[4]))\n",
    "    except:\n",
    "        CIAN.set_value(i,'Kitsq','N')\n",
    "    try:\n",
    "        float(row[5])\n",
    "        CIAN.set_value(i,'Livesq',float(row[5]))\n",
    "    except:\n",
    "        CIAN.set_value(i,'Livesq','N')\n",
    "    if row[6] == 'N':\n",
    "        continue\n",
    "    else:\n",
    "        float(row[6][0])\n",
    "        CIAN.set_value(i,'Metrodist',float(row[6][0]))\n"
   ]
  },
  {
   "cell_type": "markdown",
   "metadata": {},
   "source": [
    "Создаем csv-файл"
   ]
  },
  {
   "cell_type": "code",
   "execution_count": 578,
   "metadata": {
    "collapsed": false
   },
   "outputs": [],
   "source": [
    "CIAN.to_csv('CIAN_parsing.csv', sep = ',')"
   ]
  }
 ],
 "metadata": {
  "kernelspec": {
   "display_name": "Python [conda root]",
   "language": "python",
   "name": "conda-root-py"
  },
  "language_info": {
   "codemirror_mode": {
    "name": "ipython",
    "version": 3
   },
   "file_extension": ".py",
   "mimetype": "text/x-python",
   "name": "python",
   "nbconvert_exporter": "python",
   "pygments_lexer": "ipython3",
   "version": "3.5.2"
  }
 },
 "nbformat": 4,
 "nbformat_minor": 1
}
